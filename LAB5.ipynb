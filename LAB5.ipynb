{
 "cells": [
  {
   "cell_type": "code",
   "execution_count": 1,
   "id": "initial_id",
   "metadata": {
    "collapsed": true,
    "ExecuteTime": {
     "end_time": "2024-02-21T10:02:21.099975Z",
     "start_time": "2024-02-21T10:02:21.091932Z"
    }
   },
   "outputs": [],
   "source": [
    "import re"
   ]
  },
  {
   "cell_type": "code",
   "execution_count": 32,
   "outputs": [
    {
     "name": "stdout",
     "output_type": "stream",
     "text": [
      "Match:['a', 'aacabb', 'abbb', 'aba', 'cab']\n",
      "Dont match: ['b', 'ccacb', 'acb']\n"
     ]
    }
   ],
   "source": [
    "def match_b_s(string):\n",
    "    pattern=re.compile(r'[a-z]*ab*')\n",
    "    match=re.fullmatch(string=string,pattern=pattern)\n",
    "    if match:\n",
    "        return True\n",
    "    else:\n",
    "        return False\n",
    "\n",
    "test_strings = ['a','b','ccacb','aacabb','abbb','aba','cab','acb']\n",
    "match,dont_match=[i for i in test_strings if match_b_s(i)],[i for i in test_strings if not match_b_s(i)]\n",
    "print(f'Match:{match}')\n",
    "print(f'Dont match: {dont_match}')"
   ],
   "metadata": {
    "collapsed": false,
    "ExecuteTime": {
     "end_time": "2024-02-21T10:41:55.877650Z",
     "start_time": "2024-02-21T10:41:55.873889Z"
    }
   },
   "id": "8ca10639fc3eeb9a"
  },
  {
   "cell_type": "code",
   "execution_count": 24,
   "outputs": [
    {
     "name": "stdout",
     "output_type": "stream",
     "text": [
      "Match:['abb', 'abbb']\n",
      "Dont match: ['ab', 'abbcb', 'ac', 'abc', 'aab', 'abacus', 'abbbb']\n"
     ]
    }
   ],
   "source": [
    "def match_two_three(string):\n",
    "    pattern = re.compile(r'ab{2,3}')\n",
    "    match=re.fullmatch(string=string,pattern=pattern)\n",
    "    if match:\n",
    "        return True\n",
    "    else:\n",
    "        return False\n",
    "test_strings = [\"ab\", \"abb\", \"abbb\", \"abbcb\", \"ac\", \"abc\", \"aab\", \"abacus\",'abbbb']\n",
    "check_func=match_two_three\n",
    "match,dont_match=[i for i in test_strings if check_func(i)],[i for i in test_strings if not check_func(i)]\n",
    "print(f'Match:{match}')\n",
    "print(f'Dont match: {dont_match}')"
   ],
   "metadata": {
    "collapsed": false,
    "ExecuteTime": {
     "end_time": "2024-02-21T10:15:33.764569Z",
     "start_time": "2024-02-21T10:15:33.760689Z"
    }
   },
   "id": "2583514413a571d5"
  },
  {
   "cell_type": "code",
   "execution_count": 67,
   "outputs": [
    {
     "name": "stdout",
     "output_type": "stream",
     "text": [
      "['my_text', 're_find', 'pfewfwe_dsfsdf_pfsdfs', 'pfewfwe_dsfsdf_pfsdfs_fksf']\n"
     ]
    }
   ],
   "source": [
    "def lower_case(string):\n",
    "    pattern = re.compile(r'\\b[a-z]+(?:_[a-z]+)+\\b')\n",
    "    match = pattern.findall(string)\n",
    "    return match\n",
    "test_strings = \"This_is a my_text re_find pfewfwe_dsfsdf_pfsdfs ffdksdf-fdksk pfewfwe_dsfsdf_pfsdfs_fksf\"\n",
    "print(lower_case(test_strings))"
   ],
   "metadata": {
    "collapsed": false,
    "ExecuteTime": {
     "end_time": "2024-02-21T11:01:03.853353Z",
     "start_time": "2024-02-21T11:01:03.843746Z"
    }
   },
   "id": "a73a6968575cef54"
  },
  {
   "cell_type": "code",
   "execution_count": 71,
   "outputs": [
    {
     "name": "stdout",
     "output_type": "stream",
     "text": [
      "DASKJ hsajKD ioa sOfdDa dASLAD SDjas jFD\n",
      "['Of', 'Da', 'Dj']\n"
     ]
    }
   ],
   "source": [
    "import random \n",
    "def random_case(string):\n",
    "    my_string=''\n",
    "    for i in string:\n",
    "        if random.choice([True,False]) is True:\n",
    "            my_string+=i.upper()\n",
    "        else:\n",
    "            my_string+=i.lower()\n",
    "    return my_string\n",
    "def upper_lower_case(string):\n",
    "    pattern = re.compile(r'[A-Z][a-z]')\n",
    "    match = pattern.findall(string)\n",
    "    return match\n",
    "test_strings = \"daskj hsajkd ioa sofdda daslad sdjas jfd\"\n",
    "test_strings=random_case(test_strings)\n",
    "print(test_strings)\n",
    "print(upper_lower_case(test_strings))"
   ],
   "metadata": {
    "collapsed": false,
    "ExecuteTime": {
     "end_time": "2024-02-21T11:21:13.199878Z",
     "start_time": "2024-02-21T11:21:13.192835Z"
    }
   },
   "id": "e5ca0a7c17cd900c"
  },
  {
   "cell_type": "code",
   "execution_count": 94,
   "outputs": [
    {
     "name": "stdout",
     "output_type": "stream",
     "text": [
      "['acb']\n",
      "['a_b']\n",
      "['abb']\n",
      "['axxbfxxbfdsb']\n",
      "[]\n",
      "['ab']\n",
      "[]\n",
      "[]\n",
      "[]\n"
     ]
    }
   ],
   "source": [
    "def a_another_b(string):\n",
    "    pattern = re.compile(r'a.*b$')\n",
    "    match = pattern.findall(string)\n",
    "    return match\n",
    "strings = [\"acb\", \"a_b\", \"abb\", \"axxbfxxbfdsb\", \"a\", \"ab\", \"b\", \"abc\",'vdsvcdb']\n",
    "for i in strings:\n",
    "    print(a_another_b(i))"
   ],
   "metadata": {
    "collapsed": false,
    "ExecuteTime": {
     "end_time": "2024-02-21T11:28:48.628331Z",
     "start_time": "2024-02-21T11:28:48.620767Z"
    }
   },
   "id": "abd6e0089d1352c0"
  },
  {
   "cell_type": "code",
   "execution_count": 106,
   "outputs": [
    {
     "name": "stdout",
     "output_type": "stream",
     "text": [
      "Original;string:;This;is;;a;test;\n"
     ]
    }
   ],
   "source": [
    "def replacing(string):\n",
    "    pattern = re.compile(r'[ |,|.]')\n",
    "    replacement = ';'\n",
    "    return re.sub(pattern,replacement,string)\n",
    "text='Original string: This is, a test.'\n",
    "result=replacing(text)\n",
    "print(result)"
   ],
   "metadata": {
    "collapsed": false,
    "ExecuteTime": {
     "end_time": "2024-02-21T13:34:00.063268Z",
     "start_time": "2024-02-21T13:34:00.054567Z"
    }
   },
   "id": "e9557904b84f5d1b"
  },
  {
   "cell_type": "code",
   "execution_count": 108,
   "outputs": [
    {
     "name": "stdout",
     "output_type": "stream",
     "text": [
      "camel_camel_privet_da\n"
     ]
    }
   ],
   "source": [
    "def camel_to_snake(string):\n",
    "    # it is not beginning of the string, find if it is uppercase letter\n",
    "    condition=r'(?<!^)(?=[A-Z])'\n",
    "    to_replace='_'\n",
    "    return re.sub(condition,to_replace,string).lower()\n",
    "text='camelCamelPrivetDa'\n",
    "print(camel_to_snake(text))"
   ],
   "metadata": {
    "collapsed": false,
    "ExecuteTime": {
     "end_time": "2024-02-21T13:45:38.845038Z",
     "start_time": "2024-02-21T13:45:38.842706Z"
    }
   },
   "id": "26ca327d4bb2e8fd"
  },
  {
   "cell_type": "code",
   "execution_count": 111,
   "outputs": [
    {
     "name": "stdout",
     "output_type": "stream",
     "text": [
      "camel\tCamel\tPrivet\tDa\n"
     ]
    }
   ],
   "source": [
    "def insert_space(string):\n",
    "    condition=r'(?=[A-Z])'\n",
    "    to_split='\\t'\n",
    "    return re.sub(condition,to_split,string)\n",
    "text='camelCamelPrivetDa'\n",
    "print(insert_space(text))"
   ],
   "metadata": {
    "collapsed": false,
    "ExecuteTime": {
     "end_time": "2024-02-21T13:48:40.135425Z",
     "start_time": "2024-02-21T13:48:40.132741Z"
    }
   },
   "id": "28d396e17ad4d91"
  },
  {
   "cell_type": "code",
   "execution_count": 112,
   "outputs": [
    {
     "name": "stdout",
     "output_type": "stream",
     "text": [
      "camel Camel Privet Da\n"
     ]
    }
   ],
   "source": [
    "def insert_space(string):\n",
    "    condition=r'(?=[A-Z])'\n",
    "    to_replace=' '\n",
    "    return re.sub(condition,to_replace,string)\n",
    "text='camelCamelPrivetDa'\n",
    "print(insert_space(text))"
   ],
   "metadata": {
    "collapsed": false,
    "ExecuteTime": {
     "end_time": "2024-02-21T13:48:42.334501Z",
     "start_time": "2024-02-21T13:48:42.331062Z"
    }
   },
   "id": "7b0352ac3b6b25d2"
  },
  {
   "cell_type": "code",
   "execution_count": 123,
   "outputs": [
    {
     "name": "stdout",
     "output_type": "stream",
     "text": [
      "camelCamelPrivetDa\n"
     ]
    }
   ],
   "source": [
    "def snake_to_camel(string):\n",
    "    # it is not beginning of the string, find if it is uppercase letter\n",
    "    condition=r'(?:_)([a-zA-Z])'\n",
    "    new_string=re.sub(condition,lambda x:x.group(1).upper(),string)\n",
    "    return new_string\n",
    "text='camel_Camel_Privet_Da'\n",
    "print(snake_to_camel(text))"
   ],
   "metadata": {
    "collapsed": false,
    "ExecuteTime": {
     "end_time": "2024-02-21T13:53:31.661204Z",
     "start_time": "2024-02-21T13:53:31.654650Z"
    }
   },
   "id": "69fe1d8ee8eec937"
  }
 ],
 "metadata": {
  "kernelspec": {
   "display_name": "Python 3",
   "language": "python",
   "name": "python3"
  },
  "language_info": {
   "codemirror_mode": {
    "name": "ipython",
    "version": 2
   },
   "file_extension": ".py",
   "mimetype": "text/x-python",
   "name": "python",
   "nbconvert_exporter": "python",
   "pygments_lexer": "ipython2",
   "version": "2.7.6"
  }
 },
 "nbformat": 4,
 "nbformat_minor": 5
}
